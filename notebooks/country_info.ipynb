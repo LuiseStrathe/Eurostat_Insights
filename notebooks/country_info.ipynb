{
 "cells": [
  {
   "cell_type": "code",
   "execution_count": 1,
   "metadata": {},
   "outputs": [],
   "source": [
    "import pandas as pd\n",
    "import numpy as np"
   ]
  },
  {
   "attachments": {},
   "cell_type": "markdown",
   "metadata": {},
   "source": [
    "\n",
    "\n",
    "Create country list for translation of country codes"
   ]
  },
  {
   "cell_type": "code",
   "execution_count": 2,
   "metadata": {},
   "outputs": [],
   "source": [
    "countries = [\n",
    "'European Union [EU27_2020]',\n",
    "'European Union [EU28]',\n",
    "'Austria [AT]', \n",
    "'Belgium [BE]',\n",
    "'Bulgaria [BG]',\n",
    "'Czechia [CZ]',\n",
    "'Denmark [DK]',\n",
    "'Germany [DE]',\n",
    "'Estonia [EE]',\n",
    "'Ireland [IE]',\n",
    "'Greece [EL]',\n",
    "'Spain [ES]',\n",
    "'France [FR]',\n",
    "'Croatia [HR]',\n",
    "'Italy [IT]',\n",
    "'Cyprus [CY]',\n",
    "'Latvia [LV]',\n",
    "'Lithuania [LT]',\n",
    "'Luxembourg [LU]',\n",
    "'Hungary [HU]',\n",
    "'Malta [MT]',\n",
    "'Netherlands [NL]', \n",
    "'Poland [PL]',\n",
    "'Portugal [PT]',\n",
    "'Romania [RO]',\n",
    "'Slovenia [SI]',\n",
    "'Slovakia [SK]',\n",
    "'Finland [FI]',\n",
    "'Sweden [SE]',\n",
    "'Iceland [IS]',\n",
    "'Liechtenstein [LI]',\n",
    "'Norway [NO]',\n",
    "'Switzerland [CH]',\n",
    "'United Kingdom [UK]']"
   ]
  },
  {
   "attachments": {},
   "cell_type": "markdown",
   "metadata": {},
   "source": [
    "Create dataset of countries and their codes"
   ]
  },
  {
   "cell_type": "code",
   "execution_count": 3,
   "metadata": {},
   "outputs": [
    {
     "data": {
      "text/html": [
       "<div>\n",
       "<style scoped>\n",
       "    .dataframe tbody tr th:only-of-type {\n",
       "        vertical-align: middle;\n",
       "    }\n",
       "\n",
       "    .dataframe tbody tr th {\n",
       "        vertical-align: top;\n",
       "    }\n",
       "\n",
       "    .dataframe thead th {\n",
       "        text-align: right;\n",
       "    }\n",
       "</style>\n",
       "<table border=\"1\" class=\"dataframe\">\n",
       "  <thead>\n",
       "    <tr style=\"text-align: right;\">\n",
       "      <th></th>\n",
       "      <th>country_code</th>\n",
       "      <th>country_name</th>\n",
       "    </tr>\n",
       "  </thead>\n",
       "  <tbody>\n",
       "    <tr>\n",
       "      <th>0</th>\n",
       "      <td>EU27_2020</td>\n",
       "      <td>European Union</td>\n",
       "    </tr>\n",
       "    <tr>\n",
       "      <th>1</th>\n",
       "      <td>EU28</td>\n",
       "      <td>European Union</td>\n",
       "    </tr>\n",
       "    <tr>\n",
       "      <th>2</th>\n",
       "      <td>AT</td>\n",
       "      <td>Austria</td>\n",
       "    </tr>\n",
       "    <tr>\n",
       "      <th>3</th>\n",
       "      <td>BE</td>\n",
       "      <td>Belgium</td>\n",
       "    </tr>\n",
       "  </tbody>\n",
       "</table>\n",
       "</div>"
      ],
      "text/plain": [
       "  country_code    country_name\n",
       "0    EU27_2020  European Union\n",
       "1         EU28  European Union\n",
       "2           AT         Austria\n",
       "3           BE         Belgium"
      ]
     },
     "execution_count": 3,
     "metadata": {},
     "output_type": "execute_result"
    }
   ],
   "source": [
    "def create_country_df(countries):\n",
    "    \n",
    "    df = pd.DataFrame(columns=['country_code', 'country_name'], dtype=str)\n",
    "    codes, names = [], []\n",
    "    for country in countries:\n",
    "        code, name = country.split('[')[1].strip()[:-1], country.split('[')[0].strip()\n",
    "        codes.append(code)\n",
    "        names.append(name)\n",
    "    df['country_code'], df['country_name'] = codes, names\n",
    "    \n",
    "    return df\n",
    "\n",
    "df = create_country_df(countries)\n",
    "df.head(4)"
   ]
  },
  {
   "attachments": {},
   "cell_type": "markdown",
   "metadata": {},
   "source": [
    "Add general information for each country"
   ]
  },
  {
   "cell_type": "code",
   "execution_count": 10,
   "metadata": {},
   "outputs": [
    {
     "name": "stdout",
     "output_type": "stream",
     "text": [
      "AREA __  28  lines\n",
      "columns: freq,landuse,unit,geo\\TIME_PERIOD 2022  \n",
      "         object int64 \n",
      "\n",
      "POPULATION __  28  lines\n",
      "columns: freq,indic_de,geo\\TIME_PERIOD 2022  \n",
      "         object object \n",
      "\n"
     ]
    },
    {
     "data": {
      "text/html": [
       "<div>\n",
       "<style scoped>\n",
       "    .dataframe tbody tr th:only-of-type {\n",
       "        vertical-align: middle;\n",
       "    }\n",
       "\n",
       "    .dataframe tbody tr th {\n",
       "        vertical-align: top;\n",
       "    }\n",
       "\n",
       "    .dataframe thead th {\n",
       "        text-align: right;\n",
       "    }\n",
       "</style>\n",
       "<table border=\"1\" class=\"dataframe\">\n",
       "  <thead>\n",
       "    <tr style=\"text-align: right;\">\n",
       "      <th></th>\n",
       "      <th>country_code</th>\n",
       "      <th>area_km2</th>\n",
       "    </tr>\n",
       "  </thead>\n",
       "  <tbody>\n",
       "    <tr>\n",
       "      <th>0</th>\n",
       "      <td>A,L0008,KM2,AT</td>\n",
       "      <td>82519</td>\n",
       "    </tr>\n",
       "    <tr>\n",
       "      <th>1</th>\n",
       "      <td>A,L0008,KM2,BE</td>\n",
       "      <td>30452</td>\n",
       "    </tr>\n",
       "    <tr>\n",
       "      <th>2</th>\n",
       "      <td>A,L0008,KM2,BG</td>\n",
       "      <td>110001</td>\n",
       "    </tr>\n",
       "  </tbody>\n",
       "</table>\n",
       "</div>"
      ],
      "text/plain": [
       "     country_code  area_km2\n",
       "0  A,L0008,KM2,AT     82519\n",
       "1  A,L0008,KM2,BE     30452\n",
       "2  A,L0008,KM2,BG    110001"
      ]
     },
     "execution_count": 10,
     "metadata": {},
     "output_type": "execute_result"
    }
   ],
   "source": [
    "area = pd.read_csv('../data/raw/general/area_2022.tsv', sep = '\\t')\n",
    "population = pd.read_csv('../data/raw/general/population_2022.tsv', sep = '\\t')\n",
    "\n",
    "print('AREA __ ', area.shape[0], ' lines\\ncolumns:', *area.columns, '\\n        ', *area.dtypes, '\\n')\n",
    "print('POPULATION __ ', population.shape[0], ' lines\\ncolumns:', *population.columns, '\\n        ', *population.dtypes, '\\n')\n",
    "\n",
    "area = area.set_axis(['country_code', 'area_km2'], axis=1, inplace=False)\n",
    "population = population.set_axis(['country_code', 'population'], axis=1, inplace=False)\n",
    "\n",
    "area.head(3)"
   ]
  },
  {
   "cell_type": "code",
   "execution_count": 20,
   "metadata": {},
   "outputs": [
    {
     "data": {
      "text/html": [
       "<div>\n",
       "<style scoped>\n",
       "    .dataframe tbody tr th:only-of-type {\n",
       "        vertical-align: middle;\n",
       "    }\n",
       "\n",
       "    .dataframe tbody tr th {\n",
       "        vertical-align: top;\n",
       "    }\n",
       "\n",
       "    .dataframe thead th {\n",
       "        text-align: right;\n",
       "    }\n",
       "</style>\n",
       "<table border=\"1\" class=\"dataframe\">\n",
       "  <thead>\n",
       "    <tr style=\"text-align: right;\">\n",
       "      <th></th>\n",
       "      <th>country_code</th>\n",
       "      <th>country_name</th>\n",
       "      <th>area_km2</th>\n",
       "      <th>population</th>\n",
       "    </tr>\n",
       "  </thead>\n",
       "  <tbody>\n",
       "    <tr>\n",
       "      <th>0</th>\n",
       "      <td>AT</td>\n",
       "      <td>Austria</td>\n",
       "      <td>82519.0</td>\n",
       "      <td>8978929.0</td>\n",
       "    </tr>\n",
       "    <tr>\n",
       "      <th>1</th>\n",
       "      <td>BE</td>\n",
       "      <td>Belgium</td>\n",
       "      <td>30452.0</td>\n",
       "      <td>11631136.0</td>\n",
       "    </tr>\n",
       "    <tr>\n",
       "      <th>2</th>\n",
       "      <td>BG</td>\n",
       "      <td>Bulgaria</td>\n",
       "      <td>110001.0</td>\n",
       "      <td>6838937.0</td>\n",
       "    </tr>\n",
       "    <tr>\n",
       "      <th>3</th>\n",
       "      <td>CZ</td>\n",
       "      <td>Czechia</td>\n",
       "      <td>77212.0</td>\n",
       "      <td>10516707.0</td>\n",
       "    </tr>\n",
       "    <tr>\n",
       "      <th>4</th>\n",
       "      <td>DK</td>\n",
       "      <td>Denmark</td>\n",
       "      <td>41987.0</td>\n",
       "      <td>5873420.0</td>\n",
       "    </tr>\n",
       "  </tbody>\n",
       "</table>\n",
       "</div>"
      ],
      "text/plain": [
       "  country_code country_name  area_km2  population\n",
       "0           AT      Austria   82519.0   8978929.0\n",
       "1           BE      Belgium   30452.0  11631136.0\n",
       "2           BG     Bulgaria  110001.0   6838937.0\n",
       "3           CZ      Czechia   77212.0  10516707.0\n",
       "4           DK      Denmark   41987.0   5873420.0"
      ]
     },
     "execution_count": 20,
     "metadata": {},
     "output_type": "execute_result"
    }
   ],
   "source": [
    "def convert_to_float(x):\n",
    "    try:        return float(x)\n",
    "    except:\n",
    "        x = x.translate({ord(i): '' for i in ' edp:cs'})\n",
    "        try:    return float(x)\n",
    "        except: return np.nan\n",
    "    \n",
    "def get_country(x):\n",
    "    return x.strip()[-2:]\n",
    "\n",
    "def clean_table(df):\n",
    "    df.iloc[:,0] = df.iloc[:,0].apply(get_country)\n",
    "    df.iloc[:,1] = df.iloc[:,1].apply(convert_to_float)\n",
    "    return df\n",
    "\n",
    "area_n, population_n = clean_table(area), clean_table(population)\n",
    "\n",
    "both = pd.merge(area_n, population_n, on='country_code')\n",
    "full = pd.merge(df, both, on='country_code')\n",
    "full.head()"
   ]
  },
  {
   "attachments": {},
   "cell_type": "markdown",
   "metadata": {},
   "source": [
    "Save countries info"
   ]
  },
  {
   "cell_type": "code",
   "execution_count": 19,
   "metadata": {},
   "outputs": [],
   "source": [
    "full.to_csv('../data/dataframes/country_info.csv', index=False)"
   ]
  }
 ],
 "metadata": {
  "kernelspec": {
   "display_name": "scrape",
   "language": "python",
   "name": "python3"
  },
  "language_info": {
   "codemirror_mode": {
    "name": "ipython",
    "version": 3
   },
   "file_extension": ".py",
   "mimetype": "text/x-python",
   "name": "python",
   "nbconvert_exporter": "python",
   "pygments_lexer": "ipython3",
   "version": "3.9.12"
  },
  "orig_nbformat": 4
 },
 "nbformat": 4,
 "nbformat_minor": 2
}
